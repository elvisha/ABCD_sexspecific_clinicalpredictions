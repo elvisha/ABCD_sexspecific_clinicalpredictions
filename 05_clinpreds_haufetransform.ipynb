{
 "cells": [
  {
   "cell_type": "code",
   "execution_count": null,
   "metadata": {},
   "outputs": [],
   "source": [
    "#import relevant libraries\n",
    "\n",
    "import os\n",
    "import sys\n",
    "#only need to run these if packages haven't been installed yet\n",
    "#!{sys.executable} -m pip install -U cupy\n",
    "#!{sys.executable} -m pip install cuda-python\n",
    "#!{sys.executable} -m pip install -U statistics\n",
    "\n",
    "import pandas as pd\n",
    "import sys; sys.path\n",
    "import matplotlib.pyplot as plt\n",
    "import numpy as np\n",
    "from datetime import datetime\n",
    "\n",
    "\n",
    "import warnings\n",
    "warnings.filterwarnings('ignore')\n"
   ]
  },
  {
   "cell_type": "code",
   "execution_count": null,
   "metadata": {},
   "outputs": [],
   "source": [
    "# read and clean up ABCD data\n",
    "# set base dirctories\n",
    "ABCD_base_dir   = 'base_directory_path'\n",
    "\n",
    "#load subj fc data\n",
    "ABCD_fc_df = pd.read_csv(os.path.join(ABCD_base_dir, 'fc_data.csv'), header=None)\n",
    "ABCD_fc_subj = pd.read_csv(os.path.join(ABCD_base_dir, 'fc_subj_data.txt'), header=None)\n",
    "ABCD_fc = ABCD_fc_df.T\n",
    "\n",
    "# load subj demo and clinical data\n",
    "ABCD_subj = pd.read_csv(os.path.join(ABCD_base_dir, 'clin_subj_data.csv'))\n",
    "ABCD_clin = pd.read_csv(os.path.join(ABCD_base_dir, 'clin_subj_data.csv'))\n",
    "\n",
    "#drop duplicate header rows\n",
    "header_row = 0\n",
    "ABCD_subj = ABCD_subj.drop(header_row)\n",
    "ABCD_clin = ABCD_clin.drop(header_row)"
   ]
  },
  {
   "cell_type": "code",
   "execution_count": null,
   "metadata": {},
   "outputs": [],
   "source": [
    "#add subj key data to fc data and sort\n",
    "ABCD_fc_subj.columns=['subjectkey']\n",
    "ABCD_fc.insert(0, \"subjectkey\", ABCD_fc_subj, True)\n",
    "ABCD_fc_sorted = ABCD_fc.sort_values(by='subjectkey', ascending=True)"
   ]
  },
  {
   "cell_type": "code",
   "execution_count": null,
   "metadata": {},
   "outputs": [],
   "source": [
    "#clean and sort clinical data\n",
    "mask = ABCD_clin.subjectkey.isin(ABCD_fc_sorted['subjectkey'])\n",
    "ABCD_clin_subjs = ABCD_clin[mask]\n",
    "ABCD_clin_baseline = ABCD_clin_subjs[ABCD_clin_subjs.eventname == 'baseline_year_1_arm_1']\n",
    "ABCD_clin_sorted = ABCD_clin_baseline.sort_values(by='subjectkey', ascending=True)"
   ]
  },
  {
   "cell_type": "code",
   "execution_count": null,
   "metadata": {},
   "outputs": [],
   "source": [
    "#clean and sort subject data\n",
    "mask = ABCD_subj.subjectkey.isin(ABCD_fc_sorted['subjectkey'])\n",
    "ABCD_subj_incl = ABCD_subj[mask]\n",
    "ABCD_subj_baseline = ABCD_subj_incl[ABCD_subj_incl.eventname == 'baseline_year_1_arm_1']\n",
    "ABCD_subj_sorted = ABCD_subj_baseline.sort_values(by='subjectkey', ascending=True)\n",
    "ABCD_subj_data = ABCD_subj_sorted"
   ]
  },
  {
   "cell_type": "code",
   "execution_count": null,
   "metadata": {},
   "outputs": [],
   "source": [
    "#isolate and clean clinical variable to be predicted\n",
    "ABCD_clin_data = ABCD_clin_sorted[['cbcl_scr_syn_anxdep_r', 'cbcl_scr_syn_withdep_r',\n",
    "                                  'cbcl_scr_syn_somatic_r', 'cbcl_scr_syn_social_r',\n",
    "                                  'cbcl_scr_syn_thought_r', 'cbcl_scr_syn_attention_r',\n",
    "                                  'cbcl_scr_syn_rulebreak_r', 'cbcl_scr_syn_aggressive_r',\n",
    "                                  'cbcl_scr_syn_internal_r',  'cbcl_scr_syn_external_r',\n",
    "                                  'cbcl_scr_syn_totprob_r', 'cbcl_scr_dsm5_depress_r',\n",
    "                                  'cbcl_scr_dsm5_anxdisord_r', 'cbcl_scr_dsm5_somaticpr_r',\n",
    "                                  'cbcl_scr_dsm5_adhd_r', 'cbcl_scr_dsm5_opposit_r',\n",
    "                                  'cbcl_scr_dsm5_conduct_r', 'cbcl_scr_07_sct_r',\n",
    "                                  'cbcl_scr_07_ocd_r', 'cbcl_scr_07_stress_r']]\n",
    "\n",
    "ABCD_clin_labels = ['AnxDep', 'WithDep', 'Somatic', 'Social', 'Thought', 'Attention',\n",
    "                   'RuleBreak', 'Aggresive', 'Internal', 'External', 'TotProb', 'Depress',\n",
    "                   'AnxDiscord', 'SomaticPr', 'ADHD', 'Opposit', 'Conduct', 'Sluggish', \n",
    "                    'OCD', 'Stress']\n",
    "\n",
    "ABCD_clin_data.columns = ABCD_clin_labels\n",
    "ABCD_clin_data.reset_index(inplace=True)\n",
    "ABCD_clin_data = ABCD_clin_data.drop(columns=['index'])\n",
    "\n",
    "#clean fc data \n",
    "ABCD_fc_data = ABCD_fc_sorted.drop(columns=['subjectkey'])\n",
    "ABCD_fc_data.reset_index(inplace=True) \n",
    "ABCD_fc_data = ABCD_fc_data.drop(columns=['index'])\n",
    "\n",
    "#clean subj data\n",
    "ABCD_subj_data.reset_index(inplace=True) \n",
    "ABCD_subj_data = ABCD_subj_data.drop(columns=['index'])"
   ]
  },
  {
   "cell_type": "code",
   "execution_count": null,
   "metadata": {},
   "outputs": [],
   "source": [
    "#get sex-specific variables\n",
    "mask_m = ABCD_subj_sorted.sex=='M'\n",
    "ABCD_subj_m = ABCD_subj_sorted[mask_m]\n",
    "ABCD_clin_m = ABCD_clin_data[mask_m]\n",
    "ABCD_fc_m = ABCD_fc_data[mask_m]\n",
    "\n",
    "mask_f = ABCD_subj_sorted.sex=='F'\n",
    "ABCD_subj_f = ABCD_subj_sorted[mask_f]\n",
    "ABCD_clin_f = ABCD_clin_data[mask_f]\n",
    "ABCD_fc_f = ABCD_fc_data[mask_f]"
   ]
  },
  {
   "cell_type": "code",
   "execution_count": null,
   "metadata": {},
   "outputs": [],
   "source": [
    "#number of repetitions you want to perform\n",
    "rep = 100\n",
    "\n",
    "#set x data to be the input variable you want to use\n",
    "X_m = ABCD_fc_m\n",
    "X_f = ABCD_fc_f\n",
    "\n",
    "Y_m = ABCD_clin_m\n",
    "Y_f = ABCD_clin_f\n",
    "\n",
    "#number of variables \n",
    "n_beh = Y_f.shape[1]\n",
    "\n",
    "#number of features \n",
    "n_feat = X_f.shape[1]\n",
    "\n",
    "#test within sex only here\n",
    "#n_test = 1\n",
    "\n",
    "results_dir   = 'results_directory_path'"
   ]
  },
  {
   "cell_type": "code",
   "execution_count": null,
   "metadata": {},
   "outputs": [],
   "source": [
    "#feature importance extracted from the model\n",
    "#featimp_m = np.zeros([rep,n_feat])\n",
    "#featimp_f = np.zeros([rep,n_feat])\n",
    "#for when the feat weights get haufe-inverted\n",
    "\n",
    "#iterate through one sex at a time to prevent crashes, requires ~100GB RAM on a single core to run without crashing\n",
    "\n",
    "#featimp_haufe_m = np.zeros([n_beh,rep,n_feat])\n",
    "featimp_haufe_f = np.zeros([n_beh,rep,n_feat])"
   ]
  },
  {
   "cell_type": "code",
   "execution_count": null,
   "metadata": {
    "scrolled": true
   },
   "outputs": [],
   "source": [
    "#iterate through number of models\n",
    "for p in range(rep):\n",
    "    #print model # you're on\n",
    "    print('Model %d' %(p+1))\n",
    "    \n",
    "    #create empty array to save cov x data\n",
    "    cov_x_f=[]\n",
    "    \n",
    "    #print time\n",
    "    now = datetime.now()\n",
    "    current_time = now.strftime(\"%H:%M:%S\")\n",
    "    print(\"Current Time =\", current_time)\n",
    "    \n",
    "    #load train indices \n",
    "    #train_inds_m = np.load(results_dir + '/fc_traininds_m_' + np.str(p) + '.npy')\n",
    "    train_inds_f = np.load(results_dir + '/fc_traininds_f_' + np.str(p) + '.npy')\n",
    "    \n",
    "    \n",
    "    #set x values based on indices from split\n",
    "    #x_train_m = X_m.iloc[train_inds_m].values\n",
    "    x_train_f = X_f.iloc[train_inds_f].values\n",
    "    \n",
    "\n",
    "    #set y values based on indices from split  \n",
    "    #beh_train_m = Y_m.iloc[train_inds_m].values \n",
    "    beh_train_f = Y_f.iloc[train_inds_f].values\n",
    "    \n",
    "    \n",
    "    #compute Haufe-inverted feature weights\n",
    "    \n",
    "    #calculate covariance of x train data\n",
    "    #cov_x_m = np.cov(x_train_m.T)\n",
    "    cov_x_f = np.cov(x_train_f.T)\n",
    "    \n",
    "    #printing this just to keep track of it as it's running\n",
    "    print(\"Covariance Calculation Completed\")\n",
    "    \n",
    "    #iterate through the different behaviors\n",
    "    for beh in range(n_beh):\n",
    "        print (\"Behaviour: %s\" % Y_m.columns[beh])\n",
    "          \n",
    "        #y_train_m = np.double(beh_train_m)[:,beh]\n",
    "        y_train_f = np.double(beh_train_f)[:,beh]\n",
    "        \n",
    "        #load in feat imp data from when models were trained\n",
    "        #featimp_m = np.load(results_dir + '/fc_featimp_m_' + ABCD_clin_labels[beh] + '.npy')\n",
    "        featimp_f = np.load(results_dir + '/fc_featimp_f_' + ABCD_clin_labels[beh] + '.npy')\n",
    "        \n",
    "        #calculate covariance of y train data and then complete the matrix multiplication to \n",
    "        #compute the haufe-transformed feature weights\n",
    "        #cov_y_m = np.cov(y_train_m)\n",
    "        #featimp_haufe_m[beh,p,:] = np.matmul(cov_x_m,featimp_m[p,:])*(1/cov_y_m)\n",
    "        cov_y_f = np.cov(y_train_f)\n",
    "        featimp_haufe_f[beh,p,:] = np.matmul(cov_x_f,featimp_f[p,:])*(1/cov_y_f)\n",
    "\n",
    "        #save results\n",
    "        #np.save((results_dir + '/fc_featimp_haufe_m_' + ABCD_clin_labels[beh] + '.npy'),featimp_haufe_m[beh,:,:])\n",
    "        np.save((results_dir + '/fc_featimp_haufe_f_' + ABCD_clin_labels[beh] + '.npy'),featimp_haufe_f[beh,:,:])    \n",
    "    "
   ]
  },
  {
   "cell_type": "code",
   "execution_count": null,
   "metadata": {},
   "outputs": [],
   "source": [
    "featimp_haufe_f"
   ]
  },
  {
   "cell_type": "code",
   "execution_count": null,
   "metadata": {},
   "outputs": [],
   "source": []
  }
 ],
 "metadata": {
  "kernelspec": {
   "display_name": "Python 3",
   "language": "python",
   "name": "python3"
  },
  "language_info": {
   "codemirror_mode": {
    "name": "ipython",
    "version": 3
   },
   "file_extension": ".py",
   "mimetype": "text/x-python",
   "name": "python",
   "nbconvert_exporter": "python",
   "pygments_lexer": "ipython3",
   "version": "3.7.6"
  }
 },
 "nbformat": 4,
 "nbformat_minor": 5
}
