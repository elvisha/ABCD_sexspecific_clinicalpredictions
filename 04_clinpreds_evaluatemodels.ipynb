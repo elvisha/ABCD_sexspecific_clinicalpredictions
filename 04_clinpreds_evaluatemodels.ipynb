{
 "cells": [
  {
   "cell_type": "code",
   "execution_count": 1,
   "metadata": {},
   "outputs": [],
   "source": [
    "import os\n",
    "import sys\n",
    "#!{sys.executable} -m pip install statsmodels\n",
    "\n",
    "\n",
    "import numpy as np\n",
    "import pandas as pd\n",
    "import sys; sys.path\n",
    "import matplotlib.pyplot as plt\n",
    "import seaborn as sns\n",
    "from statsmodels.stats.multitest import multipletests as fdr\n",
    "from matplotlib import colors\n",
    "\n",
    "import warnings\n",
    "warnings.filterwarnings('ignore')"
   ]
  },
  {
   "cell_type": "code",
   "execution_count": 2,
   "metadata": {},
   "outputs": [],
   "source": [
    "results_dir   = 'results_directory_path'\n",
    "\n",
    "ABCD_clin_labels = ['AnxDep', 'WithDep', 'Somatic', 'Social', 'Thought', 'Attention',\n",
    "                    'RuleBreak', 'Aggresive', 'Internal', 'External', 'TotProb', 'Depress',\n",
    "                    'AnxDiscord', 'SomaticPr', 'ADHD', 'Opposit', 'Conduct', 'Sluggish', \n",
    "                    'OCD', 'Stress']\n",
    "\n",
    "\n",
    "#load in all of the prediction accuracy data for the true and the null models\n",
    "rep = 100\n",
    "n_beh = 20\n",
    "corr_mm = np.zeros([n_beh,rep,n_beh])\n",
    "corr_mf = np.zeros([n_beh,rep,n_beh])\n",
    "corr_fm = np.zeros([n_beh,rep,n_beh])\n",
    "corr_ff = np.zeros([n_beh,rep,n_beh])\n",
    "\n",
    "\n",
    "null_rep = 1000\n",
    "null_corr_mm = np.zeros([n_beh,null_rep,n_beh])\n",
    "null_corr_mf = np.zeros([n_beh,null_rep,n_beh])\n",
    "null_corr_fm = np.zeros([n_beh,null_rep,n_beh])\n",
    "null_corr_ff = np.zeros([n_beh,null_rep,n_beh])\n",
    "\n",
    "for i in range(len(ABCD_clin_labels)):\n",
    "    \n",
    "    corr_mm[i,:,:] = np.load(results_dir + '/fc_crossbehav_corr_mm_' + ABCD_clin_labels[i] + '.npy')\n",
    "    corr_mf[i,:,:] = np.load(results_dir + '/fc_crossbehav_corr_mf_' + ABCD_clin_labels[i] + '.npy')\n",
    "    corr_fm[i,:,:] = np.load(results_dir + '/fc_crossbehav_corr_fm_' + ABCD_clin_labels[i] + '.npy')\n",
    "    corr_ff[i,:,:] = np.load(results_dir + '/fc_crossbehav_corr_ff_' + ABCD_clin_labels[i] + '.npy')\n",
    "    \n",
    "    null_corr_mm[i,:,:] = np.load(results_dir + '/fc_crossbehav_null_corr_mm_' + ABCD_clin_labels[i] + '.npy')\n",
    "    null_corr_mf[i,:,:] = np.load(results_dir + '/fc_crossbehav_null_corr_mf_' + ABCD_clin_labels[i] + '.npy')\n",
    "    null_corr_fm[i,:,:] = np.load(results_dir + '/fc_crossbehav_null_corr_fm_' + ABCD_clin_labels[i] + '.npy')\n",
    "    null_corr_ff[i,:,:] = np.load(results_dir + '/fc_crossbehav_null_corr_ff_' + ABCD_clin_labels[i] + '.npy')\n",
    "\n"
   ]
  },
  {
   "cell_type": "code",
   "execution_count": 3,
   "metadata": {},
   "outputs": [],
   "source": [
    "#compute average prediction accuracy\n",
    "avg_corr_mm = np.mean(corr_mm, axis=1)\n",
    "avg_corr_mf = np.mean(corr_mf, axis=1)\n",
    "avg_corr_fm = np.mean(corr_fm, axis=1)\n",
    "avg_corr_ff = np.mean(corr_ff, axis=1)\n",
    "\n",
    "corr_m = np.hstack([avg_corr_mm, avg_corr_mf])\n",
    "corr_f = np.hstack([avg_corr_fm, avg_corr_ff])\n",
    "\n",
    "corr = np.vstack([corr_m, corr_f])\n",
    "\n",
    "#np.savetxt((results_dir + '/summary_corr_corrected_5260.csv'), corr, delimiter=',')\n"
   ]
  },
  {
   "cell_type": "code",
   "execution_count": 4,
   "metadata": {},
   "outputs": [],
   "source": [
    "#function to compare perforance between a model and its null \n",
    "def get_null_p(x,null):\n",
    "    pval = 1-np.mean(x-null>=0)\n",
    "    \n",
    "    return pval"
   ]
  },
  {
   "cell_type": "code",
   "execution_count": 5,
   "metadata": {},
   "outputs": [
    {
     "data": {
      "text/plain": [
       "161"
      ]
     },
     "execution_count": 5,
     "metadata": {},
     "output_type": "execute_result"
    }
   ],
   "source": [
    "#compare true point estimate (mean) to entire null distribution\n",
    "p_mm = np.zeros([n_beh,n_beh])\n",
    "p_mf = np.zeros([n_beh,n_beh])\n",
    "p_fm = np.zeros([n_beh,n_beh])\n",
    "p_ff = np.zeros([n_beh,n_beh])\n",
    "\n",
    "\n",
    "#get p vals for all models\n",
    "for i in range(n_beh):\n",
    "    for j in range(n_beh):\n",
    "        p_mm[i,j] = get_null_p(np.mean(corr_mm[i,:,j]), null_corr_mm[i,:,j])\n",
    "        p_mf[i,j] = get_null_p(np.mean(corr_mf[i,:,j]), null_corr_mf[i,:,j])\n",
    "        p_fm[i,j] = get_null_p(np.mean(corr_fm[i,:,j]), null_corr_fm[i,:,j])\n",
    "        p_ff[i,j] = get_null_p(np.mean(corr_ff[i,:,j]), null_corr_ff[i,:,j])\n",
    "             \n",
    "    \n",
    "    #p_mm[i,:] = fdr(p_mm[i,:], alpha=0.05, method='fdr_bh', is_sorted=False, returnsorted=False)[1]\n",
    "    #p_mf[i,:] = fdr(p_mf[i,:], alpha=0.05, method='fdr_bh', is_sorted=False, returnsorted=False)[1]\n",
    "    #p_fm[i,:] = fdr(p_fm[i,:], alpha=0.05, method='fdr_bh', is_sorted=False, returnsorted=False)[1]\n",
    "    #p_ff[i,:] = fdr(p_ff[i,:], alpha=0.05, method='fdr_bh', is_sorted=False, returnsorted=False)[1]\n",
    "    \n",
    "\n",
    "p_m = np.hstack([p_mm, p_mf])\n",
    "p_f = np.hstack([p_fm, p_ff])\n",
    "\n",
    "p = np.vstack([p_m, p_f])\n",
    "\n",
    "#correct for multiple comparisons across all prediction accuracies\n",
    "p_corr = fdr(p.ravel(), alpha=0.05, method='fdr_bh', is_sorted=False, returnsorted=False)[1]\n",
    "p_corr = np.reshape(p_corr, (34, 34))\n",
    "\n",
    "\n",
    "#np.sum(p_corr<(0.05))\n",
    "#save accuracy data and corrected p values\n",
    "np.savetxt((results_dir + '/summary_corr.csv'), corr, delimiter=',')\n",
    "np.savetxt((results_dir + '/summary_p_corr.csv'), p_corr, delimiter=',')"
   ]
  }
 ],
 "metadata": {
  "kernelspec": {
   "display_name": "Python 3",
   "language": "python",
   "name": "python3"
  },
  "language_info": {
   "codemirror_mode": {
    "name": "ipython",
    "version": 3
   },
   "file_extension": ".py",
   "mimetype": "text/x-python",
   "name": "python",
   "nbconvert_exporter": "python",
   "pygments_lexer": "ipython3",
   "version": "3.7.6"
  }
 },
 "nbformat": 4,
 "nbformat_minor": 5
}
